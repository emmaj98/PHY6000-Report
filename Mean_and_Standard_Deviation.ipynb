{
  "nbformat": 4,
  "nbformat_minor": 0,
  "metadata": {
    "colab": {
      "name": "Mean and Standard Deviation.ipynb",
      "provenance": [],
      "collapsed_sections": [],
      "authorship_tag": "ABX9TyP7htJQcw5WbssEZ6pWm8qy",
      "include_colab_link": true
    },
    "kernelspec": {
      "name": "python3",
      "display_name": "Python 3"
    },
    "language_info": {
      "name": "python"
    }
  },
  "cells": [
    {
      "cell_type": "markdown",
      "metadata": {
        "id": "view-in-github",
        "colab_type": "text"
      },
      "source": [
        "<a href=\"https://colab.research.google.com/github/emmaj98/PHY6000-Report/blob/main/Mean_and_Standard_Deviation.ipynb\" target=\"_parent\"><img src=\"https://colab.research.google.com/assets/colab-badge.svg\" alt=\"Open In Colab\"/></a>"
      ]
    },
    {
      "cell_type": "code",
      "metadata": {
        "id": "FoGQtTURJeDG"
      },
      "source": [
        "!pip install numpy pandas>1.0 matplotlib pvlib"
      ],
      "execution_count": null,
      "outputs": []
    },
    {
      "cell_type": "code",
      "metadata": {
        "id": "MsIHscN_JoOK"
      },
      "source": [
        "from google.colab import files\n",
        "#For saving graphs\n",
        "\n",
        "import numpy as np\n",
        "import matplotlib.pyplot as plt"
      ],
      "execution_count": null,
      "outputs": []
    },
    {
      "cell_type": "markdown",
      "source": [
        "Sheffied Sarah 2014"
      ],
      "metadata": {
        "id": "D_uwif_gcpFA"
      }
    },
    {
      "cell_type": "code",
      "source": [
        "hsmn=0.45316877398908134\n",
        "hsstd=0.30604441460494985\n",
        "\n",
        "dsmn=0.5048292443344461\n",
        "dsstd=0.2690752672482738\n",
        "\n",
        "wsmn=0.5243406671736902\n",
        "wsstd=0.16125990508977925\n",
        "\n",
        "msmn=0.5123689848938223\n",
        "msstd=0.06036558149757962"
      ],
      "metadata": {
        "id": "qhhf257lAsl9"
      },
      "execution_count": null,
      "outputs": []
    },
    {
      "cell_type": "code",
      "source": [
        "ssx=[1,2,3,4]\n",
        "ssy=[hsmn, dsmn, wsmn, msmn]\n",
        "ssyerr=(hsstd, dsstd, wsstd, msstd)\n",
        "\n",
        "plt.xlabel('Time Scale')\n",
        "plt.ylabel('KT')\n",
        "my_xticks = ['Hourly','Daily','Weekly','Monthly']\n",
        "plt.xticks(ssx, my_xticks)\n",
        "plt.errorbar(ssx,ssy,ssyerr, fmt='o', color='black', ecolor='deeppink', elinewidth=2, capsize=5, capthick=2)\n",
        "plt.show()\n",
        "#plt.savefig('sheff_sarah.pdf', dpi=300, bbox_inches = \"tight\")\n",
        "#files.download('sheff_sarah.pdf')"
      ],
      "metadata": {
        "colab": {
          "base_uri": "https://localhost:8080/",
          "height": 282
        },
        "id": "43xwx0P4rOxv",
        "outputId": "926202df-1315-4531-9fa6-d47d42931665"
      },
      "execution_count": null,
      "outputs": [
        {
          "output_type": "display_data",
          "data": {
            "image/png": "[encoded data removed]",
            "text/plain": [
              "<Figure size 432x288 with 1 Axes>"
            ]
          },
          "metadata": {
            "needs_background": "light"
          }
        }
      ]
    },
    {
      "cell_type": "markdown",
      "source": [
        "Sheffield Merra 2014"
      ],
      "metadata": {
        "id": "IS9CUEjliPq-"
      }
    },
    {
      "cell_type": "code",
      "source": [
        "hmmn=0.454120023330997\n",
        "hmstd=0.2667161307025153\n",
        "\n",
        "dmmn=0.5207162979798617\n",
        "dmstd=0.22922745813888765\n",
        "\n",
        "wmmn=0.5223665856883942\n",
        "wmstd=0.12489988580581642\n",
        "\n",
        "mmmn=0.5158644362427914\n",
        "mmstd=0.10553798047135533"
      ],
      "metadata": {
        "id": "gNUaotg8iSaN"
      },
      "execution_count": null,
      "outputs": []
    },
    {
      "cell_type": "code",
      "source": [
        "smx=[1,2,3,4]\n",
        "smy=[hmmn, dmmn, wmmn, mmmn]\n",
        "smyerr=(hmstd, dmstd, wmstd, mmstd)\n",
        "\n",
        "plt.xlabel('Time Scale')\n",
        "plt.ylabel('KT')\n",
        "my_xticks = ['Hourly','Daily','Weekly','Monthly']\n",
        "plt.xticks(smx, my_xticks)\n",
        "plt.errorbar(smx,smy,smyerr, fmt='o', color='black', ecolor='forestgreen', elinewidth=2, capsize=5, capthick=2)\n",
        "plt.show()"
      ],
      "metadata": {
        "colab": {
          "base_uri": "https://localhost:8080/",
          "height": 279
        },
        "outputId": "4ff7d6b3-cde5-445d-9677-f71933ab5bfa",
        "id": "RiueieEiGXxz"
      },
      "execution_count": null,
      "outputs": [
        {
          "output_type": "display_data",
          "data": {
            "image/png": "[encoded data removed]",
            "text/plain": [
              "<Figure size 432x288 with 1 Axes>"
            ]
          },
          "metadata": {
            "needs_background": "light"
          }
        }
      ]
    },
    {
      "cell_type": "markdown",
      "source": [
        "Sheffield Sarah v Merra"
      ],
      "metadata": {
        "id": "fR6RdEOHLzU9"
      }
    },
    {
      "cell_type": "code",
      "source": [
        "x11=[1,3,5,7]\n",
        "y11=[hsmn, dsmn, wsmn, msmn]\n",
        "yerr11=(hsstd, dsstd, wsstd, msstd)\n",
        "\n",
        "x21=[2,4,6,8]\n",
        "y21=[hmmn, dmmn, wmmn, mmmn]\n",
        "yerr21=(hmstd, dmstd, wmstd, mmstd)\n",
        "\n",
        "xt1=[1.5, 3.5, 5.5, 7.5]\n",
        "\n",
        "#plt.title('Sheffield Sarah vs Merra')\n",
        "plt.xlabel('Time Scale')\n",
        "plt.ylabel('KT')\n",
        "my_xticks = ['Hourly','Daily','Weekly','Monthly']\n",
        "plt.xticks(xt1, my_xticks)\n",
        "plt.errorbar(x11, y11, yerr11, fmt='o', color='black', ecolor='red', elinewidth=2, capsize=5, capthick=2, label='SARAH')\n",
        "plt.errorbar(x21, y21, yerr21, fmt='o', color='black', ecolor='navy', elinewidth=2, capsize=5, capthick=2, label='MERRA')\n",
        "plt.legend(loc=\"lower right\")\n",
        "#plt.show()\n",
        "plt.savefig('sheff_sarahVmerra.pdf', dpi=300, bbox_inches = \"tight\")\n",
        "files.download('sheff_sarahVmerra.pdf')"
      ],
      "metadata": {
        "colab": {
          "base_uri": "https://localhost:8080/",
          "height": 282
        },
        "outputId": "265862e9-31b4-46ec-a505-6cc74fa13300",
        "id": "zeYrbq0kMPko"
      },
      "execution_count": null,
      "outputs": [
        {
          "output_type": "display_data",
          "data": {
            "application/javascript": [
              "\n",
              "    async function download(id, filename, size) {\n",
              "      if (!google.colab.kernel.accessAllowed) {\n",
              "        return;\n",
              "      }\n",
              "      const div = document.createElement('div');\n",
              "      const label = document.createElement('label');\n",
              "      label.textContent = `Downloading \"${filename}\": `;\n",
              "      div.appendChild(label);\n",
              "      const progress = document.createElement('progress');\n",
              "      progress.max = size;\n",
              "      div.appendChild(progress);\n",
              "      document.body.appendChild(div);\n",
              "\n",
              "      const buffers = [];\n",
              "      let downloaded = 0;\n",
              "\n",
              "      const channel = await google.colab.kernel.comms.open(id);\n",
              "      // Send a message to notify the kernel that we're ready.\n",
              "      channel.send({})\n",
              "\n",
              "      for await (const message of channel.messages) {\n",
              "        // Send a message to notify the kernel that we're ready.\n",
              "        channel.send({})\n",
              "        if (message.buffers) {\n",
              "          for (const buffer of message.buffers) {\n",
              "            buffers.push(buffer);\n",
              "            downloaded += buffer.byteLength;\n",
              "            progress.value = downloaded;\n",
              "          }\n",
              "        }\n",
              "      }\n",
              "      const blob = new Blob(buffers, {type: 'application/binary'});\n",
              "      const a = document.createElement('a');\n",
              "      a.href = window.URL.createObjectURL(blob);\n",
              "      a.download = filename;\n",
              "      div.appendChild(a);\n",
              "      a.click();\n",
              "      div.remove();\n",
              "    }\n",
              "  "
            ],
            "text/plain": [
              "<IPython.core.display.Javascript object>"
            ]
          },
          "metadata": {}
        },
        {
          "output_type": "display_data",
          "data": {
            "application/javascript": [
              "download(\"download_d9f3735d-b217-4b1a-9421-5fab69c9d3d6\", \"sheff_sarahVmerra.pdf\", 14467)"
            ],
            "text/plain": [
              "<IPython.core.display.Javascript object>"
            ]
          },
          "metadata": {}
        },
        {
          "output_type": "display_data",
          "data": {
            "image/png": "[encoded data removed]",
            "text/plain": [
              "<Figure size 432x288 with 1 Axes>"
            ]
          },
          "metadata": {
            "needs_background": "light"
          }
        }
      ]
    },
    {
      "cell_type": "markdown",
      "source": [
        "Rome Sarah"
      ],
      "metadata": {
        "id": "ns-j44Kw81Ko"
      }
    },
    {
      "cell_type": "code",
      "source": [
        "rshmn=0.638940341910053\n",
        "rshstd=0.312702846370896\n",
        "\n",
        "rsdmn=0.709958173937456\n",
        "rsdstd=0.256681643569025\n",
        "\n",
        "rswmn=0.719339749856444\n",
        "rswstd=0.156363203102029\n",
        "\n",
        "rsmmn=0.717862398592833\n",
        "rsmstd=0.0862502648032232"
      ],
      "metadata": {
        "id": "scN9rR_P84Sr"
      },
      "execution_count": null,
      "outputs": []
    },
    {
      "cell_type": "code",
      "source": [
        "rsx=[1,2,3,4]\n",
        "rsy=[rshmn, rsdmn, rswmn, rsmmn]\n",
        "rsyerr=(rshstd, rsdstd, rswstd, rsmstd)\n",
        "\n",
        "plt.xlabel('Time Scale')\n",
        "plt.ylabel('KT')\n",
        "my_xticks = ['Hourly','Daily','Weekly','Monthly']\n",
        "plt.xticks(rsx, my_xticks)\n",
        "plt.errorbar(rsx,rsy,rsyerr, fmt='o', color='black', ecolor='deeppink', elinewidth=2, capsize=5, capthick=2)\n",
        "plt.show()"
      ],
      "metadata": {
        "colab": {
          "base_uri": "https://localhost:8080/",
          "height": 279
        },
        "id": "CX50tvVJ9RQ4",
        "outputId": "f9ab3aa3-3a8d-479b-8667-741c23c16d6c"
      },
      "execution_count": null,
      "outputs": [
        {
          "output_type": "display_data",
          "data": {
            "image/png": "[encoded data removed]",
            "text/plain": [
              "<Figure size 432x288 with 1 Axes>"
            ]
          },
          "metadata": {
            "needs_background": "light"
          }
        }
      ]
    },
    {
      "cell_type": "markdown",
      "source": [
        "Rome Merra"
      ],
      "metadata": {
        "id": "v6UdAkGs-PrN"
      }
    },
    {
      "cell_type": "code",
      "source": [
        "rmhmn=0.552152064493021\n",
        "rmhstd=0.279917934168402\n",
        "\n",
        "rmdmn=0.639260093463573\n",
        "rmdstd=0.24313934139837\n",
        "\n",
        "rmwmn=0.64828204251323\n",
        "rmwstd=0.144466713270659\n",
        "\n",
        "rmmmn=0.635691489688488\n",
        "rmmstd=0.0820085153297489"
      ],
      "metadata": {
        "id": "qc5MD4M8-Rmh"
      },
      "execution_count": null,
      "outputs": []
    },
    {
      "cell_type": "code",
      "source": [
        "rmx=[1,2,3,4]\n",
        "rmy=[rshmn, rsdmn, rswmn, rsmmn]\n",
        "rmyerr=(rshstd, rsdstd, rswstd, rsmstd)\n",
        "\n",
        "plt.xlabel('Time Scale')\n",
        "plt.ylabel('KT')\n",
        "my_xticks = ['Hourly','Daily','Weekly','Monthly']\n",
        "plt.xticks(rmx, my_xticks)\n",
        "plt.errorbar(rmx,rmy,rmyerr, fmt='o', color='black', ecolor='forestgreen', elinewidth=2, capsize=5, capthick=2)\n",
        "plt.show()"
      ],
      "metadata": {
        "colab": {
          "base_uri": "https://localhost:8080/",
          "height": 279
        },
        "id": "GvBRJUqw-6Ww",
        "outputId": "758b0a78-ceaf-4d2a-c8c6-94f1844e8849"
      },
      "execution_count": null,
      "outputs": [
        {
          "output_type": "display_data",
          "data": {
            "image/png": "[encoded data removed]",
            "text/plain": [
              "<Figure size 432x288 with 1 Axes>"
            ]
          },
          "metadata": {
            "needs_background": "light"
          }
        }
      ]
    },
    {
      "cell_type": "markdown",
      "source": [
        "Rome Sarah V Merra"
      ],
      "metadata": {
        "id": "VTX_Sv3t_Y9p"
      }
    },
    {
      "cell_type": "code",
      "source": [
        "x12=[1,3,5,7]\n",
        "y12=[rshmn, rsdmn, rswmn, rsmmn]\n",
        "yerr12=(rshstd, rsdstd, rswstd, rsmstd)\n",
        "\n",
        "x22=[2,4,6,8]\n",
        "y22=[rmhmn, rmdmn, rmwmn, rmmmn]\n",
        "yerr22=(rmhstd, rmdstd, rmwstd, rmmstd)\n",
        "\n",
        "xt1=[1.5, 3.5, 5.5, 7.5]\n",
        "\n",
        "#plt.title('Rome Sarah vs Merra')\n",
        "plt.xlabel('Time Scale')\n",
        "plt.ylabel('KT')\n",
        "my_xticks = ['Hourly','Daily','Weekly','Monthly']\n",
        "plt.xticks(xt1, my_xticks)\n",
        "plt.errorbar(x12, y12, yerr12, fmt='o', color='black', ecolor='red', elinewidth=2, capsize=5, capthick=2, label='SARAH')\n",
        "plt.errorbar(x22, y22, yerr22, fmt='o', color='black', ecolor='navy', elinewidth=2, capsize=5, capthick=2, label='MERRA')\n",
        "plt.legend(loc=\"lower right\")\n",
        "#plt.show()\n",
        "plt.savefig('rome_sarahVmerra.pdf', dpi=300, bbox_inches = \"tight\")\n",
        "files.download('rome_sarahVmerra.pdf')"
      ],
      "metadata": {
        "colab": {
          "base_uri": "https://localhost:8080/",
          "height": 283
        },
        "id": "oQMBhyAv_anD",
        "outputId": "055193de-11d6-425b-e201-c3abd4bfa874"
      },
      "execution_count": null,
      "outputs": [
        {
          "output_type": "display_data",
          "data": {
            "application/javascript": [
              "\n",
              "    async function download(id, filename, size) {\n",
              "      if (!google.colab.kernel.accessAllowed) {\n",
              "        return;\n",
              "      }\n",
              "      const div = document.createElement('div');\n",
              "      const label = document.createElement('label');\n",
              "      label.textContent = `Downloading \"${filename}\": `;\n",
              "      div.appendChild(label);\n",
              "      const progress = document.createElement('progress');\n",
              "      progress.max = size;\n",
              "      div.appendChild(progress);\n",
              "      document.body.appendChild(div);\n",
              "\n",
              "      const buffers = [];\n",
              "      let downloaded = 0;\n",
              "\n",
              "      const channel = await google.colab.kernel.comms.open(id);\n",
              "      // Send a message to notify the kernel that we're ready.\n",
              "      channel.send({})\n",
              "\n",
              "      for await (const message of channel.messages) {\n",
              "        // Send a message to notify the kernel that we're ready.\n",
              "        channel.send({})\n",
              "        if (message.buffers) {\n",
              "          for (const buffer of message.buffers) {\n",
              "            buffers.push(buffer);\n",
              "            downloaded += buffer.byteLength;\n",
              "            progress.value = downloaded;\n",
              "          }\n",
              "        }\n",
              "      }\n",
              "      const blob = new Blob(buffers, {type: 'application/binary'});\n",
              "      const a = document.createElement('a');\n",
              "      a.href = window.URL.createObjectURL(blob);\n",
              "      a.download = filename;\n",
              "      div.appendChild(a);\n",
              "      a.click();\n",
              "      div.remove();\n",
              "    }\n",
              "  "
            ],
            "text/plain": [
              "<IPython.core.display.Javascript object>"
            ]
          },
          "metadata": {}
        },
        {
          "output_type": "display_data",
          "data": {
            "application/javascript": [
              "download(\"download_b88cbeb4-79cd-47f1-8f42-ba52b7e118ed\", \"rome_sarahVmerra.pdf\", 14756)"
            ],
            "text/plain": [
              "<IPython.core.display.Javascript object>"
            ]
          },
          "metadata": {}
        },
        {
          "output_type": "display_data",
          "data": {
            "image/png": "[encoded data removed]",
            "text/plain": [
              "<Figure size 432x288 with 1 Axes>"
            ]
          },
          "metadata": {
            "needs_background": "light"
          }
        }
      ]
    },
    {
      "cell_type": "markdown",
      "source": [
        "Cairo Sarah"
      ],
      "metadata": {
        "id": "PgCSKB1PADdN"
      }
    },
    {
      "cell_type": "code",
      "source": [
        "cshmn=0.682948794333268\n",
        "cshstd=0.260961692335303\n",
        "\n",
        "csdmn=0.753200321561204\n",
        "csdstd=0.156202270993817\n",
        "\n",
        "cswmn=0.748239889848708\n",
        "cswstd=0.13065827319343\n",
        "\n",
        "csmmn=0.737362000905771\n",
        "csmstd=0.083403683268728"
      ],
      "metadata": {
        "id": "tx986irLAFTt"
      },
      "execution_count": null,
      "outputs": []
    },
    {
      "cell_type": "code",
      "source": [
        "csx=[1,2,3,4]\n",
        "csy=[cshmn, csdmn, cswmn, csmmn]\n",
        "csyerr=(cshstd, csdstd, cswstd, csmstd)\n",
        "\n",
        "plt.xlabel('Time Scale')\n",
        "plt.ylabel('KT')\n",
        "my_xticks = ['Hourly','Daily','Weekly','Monthly']\n",
        "plt.xticks(csx, my_xticks)\n",
        "plt.errorbar(csx,csy,csyerr, fmt='o', color='black', ecolor='deeppink', elinewidth=2, capsize=5, capthick=2)\n",
        "plt.show()"
      ],
      "metadata": {
        "colab": {
          "base_uri": "https://localhost:8080/",
          "height": 279
        },
        "id": "KlZGYwojAcRs",
        "outputId": "4c3feac9-c800-40b4-98ae-541575802697"
      },
      "execution_count": null,
      "outputs": [
        {
          "output_type": "display_data",
          "data": {
            "image/png": "[encoded data removed]",
            "text/plain": [
              "<Figure size 432x288 with 1 Axes>"
            ]
          },
          "metadata": {
            "needs_background": "light"
          }
        }
      ]
    },
    {
      "cell_type": "markdown",
      "source": [
        "Cairo Merra"
      ],
      "metadata": {
        "id": "JAbptHK8Ak3A"
      }
    },
    {
      "cell_type": "code",
      "source": [
        "cmhmn=0.677281998495662\n",
        "cmhstd=0.271052504381419\n",
        "\n",
        "cmdmn=0.775881955927011\n",
        "cmdstd=0.178857610236691\n",
        "\n",
        "cmwmn=0.78096619041528\n",
        "cmwstd=0.134979979067603\n",
        "\n",
        "cmmmn=0.770719943005317\n",
        "cmmstd=0.117566100688361"
      ],
      "metadata": {
        "id": "xMFQp3fiAmYu"
      },
      "execution_count": null,
      "outputs": []
    },
    {
      "cell_type": "code",
      "source": [
        "cmx=[1,2,3,4]\n",
        "cmy=[cmhmn, cmdmn, cmwmn, cmmmn]\n",
        "cmyerr=(cmhstd, cmdstd, cmwstd, cmmstd)\n",
        "\n",
        "plt.xlabel('Time Scale')\n",
        "plt.ylabel('KT')\n",
        "my_xticks = ['Hourly','Daily','Weekly','Monthly']\n",
        "plt.xticks(cmx, my_xticks)\n",
        "plt.errorbar(cmx,cmy,cmyerr, fmt='o', color='black', ecolor='forestgreen', elinewidth=2, capsize=5, capthick=2)\n",
        "plt.show()"
      ],
      "metadata": {
        "colab": {
          "base_uri": "https://localhost:8080/",
          "height": 279
        },
        "id": "JZmLz2ekBBkZ",
        "outputId": "d8d724e2-9325-4fcf-c3e1-98ea65c76f09"
      },
      "execution_count": null,
      "outputs": [
        {
          "output_type": "display_data",
          "data": {
            "image/png": "[encoded data removed]",
            "text/plain": [
              "<Figure size 432x288 with 1 Axes>"
            ]
          },
          "metadata": {
            "needs_background": "light"
          }
        }
      ]
    },
    {
      "cell_type": "markdown",
      "source": [
        "Cairo Sarah V Merra"
      ],
      "metadata": {
        "id": "S5MNlP80BYEd"
      }
    },
    {
      "cell_type": "code",
      "source": [
        "x13=[1,3,5,7]\n",
        "y13=[cshmn, csdmn, cswmn, csmmn]\n",
        "yerr13=(cshstd, csdstd, cswstd, csmstd)\n",
        "\n",
        "x23=[2,4,6,8]\n",
        "y23=[cmhmn, cmdmn, cmwmn, cmmmn]\n",
        "yerr23=(cmhstd, cmdstd, cmwstd, cmmstd)\n",
        "\n",
        "xt1=[1.5, 3.5, 5.5, 7.5]\n",
        "\n",
        "#plt.title('Cairo Sarah vs Merra')\n",
        "plt.xlabel('Time Scale')\n",
        "plt.ylabel('KT')\n",
        "my_xticks = ['Hourly','Daily','Weekly','Monthly']\n",
        "plt.xticks(xt1, my_xticks)\n",
        "plt.errorbar(x13, y13, yerr13, fmt='o', color='black', ecolor='red', elinewidth=2, capsize=5, capthick=2, label='SARAH')\n",
        "plt.errorbar(x23, y23, yerr23, fmt='o', color='black', ecolor='navy', elinewidth=2, capsize=5, capthick=2, label='MERRA')\n",
        "plt.legend(loc=\"lower right\")\n",
        "#plt.show()\n",
        "plt.savefig('cairo_sarahVmerra.pdf', dpi=300, bbox_inches = \"tight\")\n",
        "files.download('cairo_sarahVmerra.pdf')"
      ],
      "metadata": {
        "colab": {
          "base_uri": "https://localhost:8080/",
          "height": 296
        },
        "id": "qdVtQOMXBW97",
        "outputId": "61908871-ba97-4773-8efc-e26cf57f3df7"
      },
      "execution_count": null,
      "outputs": [
        {
          "output_type": "display_data",
          "data": {
            "application/javascript": [
              "\n",
              "    async function download(id, filename, size) {\n",
              "      if (!google.colab.kernel.accessAllowed) {\n",
              "        return;\n",
              "      }\n",
              "      const div = document.createElement('div');\n",
              "      const label = document.createElement('label');\n",
              "      label.textContent = `Downloading \"${filename}\": `;\n",
              "      div.appendChild(label);\n",
              "      const progress = document.createElement('progress');\n",
              "      progress.max = size;\n",
              "      div.appendChild(progress);\n",
              "      document.body.appendChild(div);\n",
              "\n",
              "      const buffers = [];\n",
              "      let downloaded = 0;\n",
              "\n",
              "      const channel = await google.colab.kernel.comms.open(id);\n",
              "      // Send a message to notify the kernel that we're ready.\n",
              "      channel.send({})\n",
              "\n",
              "      for await (const message of channel.messages) {\n",
              "        // Send a message to notify the kernel that we're ready.\n",
              "        channel.send({})\n",
              "        if (message.buffers) {\n",
              "          for (const buffer of message.buffers) {\n",
              "            buffers.push(buffer);\n",
              "            downloaded += buffer.byteLength;\n",
              "            progress.value = downloaded;\n",
              "          }\n",
              "        }\n",
              "      }\n",
              "      const blob = new Blob(buffers, {type: 'application/binary'});\n",
              "      const a = document.createElement('a');\n",
              "      a.href = window.URL.createObjectURL(blob);\n",
              "      a.download = filename;\n",
              "      div.appendChild(a);\n",
              "      a.click();\n",
              "      div.remove();\n",
              "    }\n",
              "  "
            ],
            "text/plain": [
              "<IPython.core.display.Javascript object>"
            ]
          },
          "metadata": {}
        },
        {
          "output_type": "display_data",
          "data": {
            "application/javascript": [
              "download(\"download_ce9a9591-f4e7-4358-b2a1-6bf1ba67fefb\", \"cairo_sarahVmerra.pdf\", 14062)"
            ],
            "text/plain": [
              "<IPython.core.display.Javascript object>"
            ]
          },
          "metadata": {}
        },
        {
          "output_type": "display_data",
          "data": {
            "image/png": "[encoded data removed]",
            "text/plain": [
              "<Figure size 432x288 with 1 Axes>"
            ]
          },
          "metadata": {
            "needs_background": "light"
          }
        }
      ]
    }
  ]
}